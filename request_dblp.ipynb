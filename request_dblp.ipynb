{
 "cells": [
  {
   "cell_type": "code",
   "execution_count": 1,
   "metadata": {},
   "outputs": [],
   "source": [
    "import requests\n",
    "import re\n",
    "import os"
   ]
  },
  {
   "cell_type": "code",
   "execution_count": 2,
   "metadata": {},
   "outputs": [],
   "source": [
    "session = requests.Session()\n",
    "\n",
    "headers = {\"Accept\": \"text/html,application/xhtml+xml,application/xml;q=0.9,image/webp,*/*;q=0.8\",\n",
    "           \"Cache-Control\": \"max-age=0\", \"Upgrade-Insecure-Requests\": \"1\",\n",
    "           \"User-Agent\": \"Mozilla/5.0 (Macintosh; Intel Mac OS X 10.14; rv:80.0) Gecko/20100101 Firefox/80.0\",\n",
    "           \"Referer\": \"https://dblp.org/search?q=NDSS\", \"Connection\": \"close\",\n",
    "           \"Accept-Language\": \"zh-CN,zh;q=0.8,zh-TW;q=0.7,zh-HK;q=0.5,en-US;q=0.3,en;q=0.2\",\n",
    "           \"Accept-Encoding\": \"gzip, deflate\"}\n",
    "cookies = {\"dblp-search-mode\": \"c\", \"dblp-dismiss-new-feature-2019-08-19\": \"3\"}\n",
    "\n",
    "lib = {\n",
    "    \"ISSCC\": \"isscc\",\n",
    "    \"ISPD\": \"ispd\",\n",
    "    \"DAC\": \"dac\"\n",
    "}\n"
   ]
  },
  {
   "cell_type": "code",
   "execution_count": 3,
   "metadata": {},
   "outputs": [],
   "source": [
    "def get_all_bibtex(url):\n",
    "    bibtexs = []\n",
    "    res = session.get(url, headers=headers, cookies=cookies)\n",
    "    data = str(res.content)\n",
    "    assert res.status_code == 200\n",
    "    bibtex_urls = re.compile(r'https://dblp.org/rec/conf/[a-zA-Z0-9]{1,10}/[a-zA-Z0-9]{1,30}.html?view=bibtex').findall(data)\n",
    "    # print(bibtex_urls)     # print(len(bibtex_urls))     bibtex_urls = list(set(bibtex_urls))\n",
    "    for l in bibtex_urls:\n",
    "        bibtex = get_one_bibtex(l)\n",
    "        bibtexs.append(bibtex)\n",
    "        print(\"[+] get one succ! {}\".format(len(bibtexs)))\n",
    "    bibtexs = list(set(bibtexs))\n",
    "    return bibtexs\n",
    "\n",
    "\n",
    "def get_one_bibtex(url):\n",
    "    res = session.get(url, headers=headers, cookies=cookies)\n",
    "    data = res.content\n",
    "    assert res.status_code == 200\n",
    "    try:\n",
    "        bibtex = re.compile(r'@[in]*proceedings{.*}', re.S).findall(data)[0]\n",
    "        # print(bibtex)         return bibtex\n",
    "    except Exception as e:\n",
    "        print(e)\n",
    "        print(data)\n",
    "    return '{}:error!'.format(url)\n",
    "\n",
    "def check_exist(output):\n",
    "    file_path = 'bibtex/{}'.format(output)\n",
    "    if os.path.exists(file_path):\n",
    "        return True\n",
    "    return False"
   ]
  },
  {
   "cell_type": "code",
   "execution_count": 4,
   "metadata": {},
   "outputs": [
    {
     "name": "stdout",
     "output_type": "stream",
     "text": [
      "[-] ISSCC 2015 bibtex exists! Continue...\n",
      "[+] Get all bibtex: ISSCC 2015 Succ!\n",
      "[-] ISPD 2015 bibtex exists! Continue...\n",
      "[+] Get all bibtex: ISPD 2015 Succ!\n",
      "[-] DAC 2015 bibtex exists! Continue...\n",
      "[+] Get all bibtex: DAC 2015 Succ!\n",
      "[-] ISSCC 2016 bibtex exists! Continue...\n",
      "[+] Get all bibtex: ISSCC 2016 Succ!\n",
      "[-] ISPD 2016 bibtex exists! Continue...\n",
      "[+] Get all bibtex: ISPD 2016 Succ!\n",
      "[-] DAC 2016 bibtex exists! Continue...\n",
      "[+] Get all bibtex: DAC 2016 Succ!\n",
      "[-] ISSCC 2017 bibtex exists! Continue...\n"
     ]
    }
   ],
   "source": [
    "year_start = 2015\n",
    "year_end = 2023\n",
    "for year in range(year_start, year_end):\n",
    "    for key in lib:\n",
    "        name = lib[key]\n",
    "        output = \"{key}_{year}.bibtex\".format(key=key, year=year)\n",
    "        if check_exist(output):\n",
    "            print(\"[-] {} {} bibtex exists! Continue...\".format(key, year))\n",
    "            # continue             print(\"[+] Try to get {} {} !\".format(key, year))\n",
    "        url = \"https://dblp.org/db/conf/{name}/{name}{year}.html\".format(name=name, year=year)\n",
    "        results = get_all_bibtex(url)\n",
    "        tmp = '\\n'.join(results)\n",
    "        print(\"[+] Get all bibtex: {} {} Succ!\".format(key, year))\n",
    "        with open('bibtex/{}'.format(output), 'w') as f:\n",
    "            f.write(tmp)"
   ]
  },
  {
   "cell_type": "code",
   "execution_count": null,
   "metadata": {},
   "outputs": [],
   "source": []
  }
 ],
 "metadata": {
  "interpreter": {
   "hash": "5c7b89af1651d0b8571dde13640ecdccf7d5a6204171d6ab33e7c296e100e08a"
  },
  "kernelspec": {
   "display_name": "Python 3.11.0 64-bit",
   "language": "python",
   "name": "python3"
  },
  "language_info": {
   "codemirror_mode": {
    "name": "ipython",
    "version": 3
   },
   "file_extension": ".py",
   "mimetype": "text/x-python",
   "name": "python",
   "nbconvert_exporter": "python",
   "pygments_lexer": "ipython3",
   "version": "3.8.8"
  },
  "orig_nbformat": 4
 },
 "nbformat": 4,
 "nbformat_minor": 2
}
